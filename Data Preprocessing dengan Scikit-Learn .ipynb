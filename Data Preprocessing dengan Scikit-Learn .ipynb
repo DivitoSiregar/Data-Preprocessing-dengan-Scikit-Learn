{
 "cells": [
  {
   "cell_type": "markdown",
   "id": "46b38554",
   "metadata": {},
   "source": [
    "### Data Preprocessing dengan Scikit-Learn "
   ]
  },
  {
   "cell_type": "code",
   "execution_count": 3,
   "id": "d808fd27",
   "metadata": {},
   "outputs": [],
   "source": [
    "# import library yang digunkanan\n",
    "import numpy as np\n",
    "from sklearn import preprocessing"
   ]
  },
  {
   "cell_type": "markdown",
   "id": "70e4712a",
   "metadata": {},
   "source": [
    "#### Sample Data"
   ]
  },
  {
   "cell_type": "code",
   "execution_count": 6,
   "id": "559a54ed",
   "metadata": {},
   "outputs": [
    {
     "data": {
      "text/plain": [
       "array([[ 2.1, -1.9,  5.5],\n",
       "       [-1.5,  2.4,  3.5],\n",
       "       [ 0.5, -7.9,  5.6],\n",
       "       [ 5.9,  2.3, -5.8]])"
      ]
     },
     "execution_count": 6,
     "metadata": {},
     "output_type": "execute_result"
    }
   ],
   "source": [
    "sample_data = np.array([[2.1, -1.9, 5.5],\n",
    "                       [-1.5, 2.4, 3.5],\n",
    "                       [0.5, -7.9, 5.6],\n",
    "                       [5.9, 2.3, -5.8]])\n",
    "sample_data\n",
    "# Sample data yang dibuat merupakan data futures yang terdiri\n",
    "# atas 4 baris dan 3 kolom (3 variabel futures)"
   ]
  },
  {
   "cell_type": "code",
   "execution_count": 8,
   "id": "4822450e",
   "metadata": {},
   "outputs": [
    {
     "data": {
      "text/plain": [
       "(4, 3)"
      ]
     },
     "execution_count": 8,
     "metadata": {},
     "output_type": "execute_result"
    }
   ],
   "source": [
    "# Menampilkan ukuran(dimensi) sample_data\n",
    "sample_data.shape\n",
    "# baris 4, kolom (futures) sebanyak 3"
   ]
  },
  {
   "cell_type": "markdown",
   "id": "661e153a",
   "metadata": {},
   "source": [
    "### Teknik Data Preprocessing dengan Scikit-Learn \n",
    "#### 1. Binarisation\n",
    "#### 2. Scaling\n",
    "#### 3. L1 Normalisation: Least Absolute Deviations\n",
    "#### 4. L2 Normalisation: Least Squares"
   ]
  },
  {
   "cell_type": "markdown",
   "id": "a795d8cf",
   "metadata": {},
   "source": [
    "#### 1. Binarisation\n",
    "Teknik ini untuk menghasilkan suatu data yang terdiri dari dua nilai numerik saja, yaitu 0 dan 1."
   ]
  },
  {
   "cell_type": "code",
   "execution_count": 12,
   "id": "17e75201",
   "metadata": {},
   "outputs": [
    {
     "data": {
      "text/plain": [
       "array([[1., 0., 1.],\n",
       "       [0., 1., 1.],\n",
       "       [0., 0., 1.],\n",
       "       [1., 1., 0.]])"
      ]
     },
     "execution_count": 12,
     "metadata": {},
     "output_type": "execute_result"
    }
   ],
   "source": [
    "preprocessor = preprocessing.Binarizer(threshold = 0.5)\n",
    "# Membuat objek binarizer menggunakan modul preprocessing dari library sklearn.\n",
    "# Parameter threshold = 0.5 menentukan batas ambang binarisasi.\n",
    "# Jika nilai elemen lebih besar dari 0.5, elemen tersebut akan diubah menjadi 1. Sebaliknya akan diubah menjadi 0.\n",
    "\n",
    "binarized_data = preprocessor.transform(sample_data)\n",
    "# Metode transform() digunakan untuk menerapkan proses binarisasi pada data sample_data menggunakan aturan threshold yang telah ditentukan.\n",
    "# Jika elemen > 0.5 → diubah menjadi 1.\n",
    "# Jika elemen ≤ 0.5 → diubah menjadi 0.\n",
    "\n",
    "binarized_data\n",
    "# Data hasil transformasi akan disimpan dalam variabel binarized_data yang berisi NumPy array.\n",
    "# Setiap nilai dalam sample_data telah diubah sesuai aturan binarisasi."
   ]
  },
  {
   "cell_type": "markdown",
   "id": "e2dcb0dd",
   "metadata": {},
   "source": [
    "#### 2. Scaling\n",
    "Berguna untuk menghasilkan suatu data numerik yang berada dalam rentang skala data tertentu."
   ]
  },
  {
   "cell_type": "code",
   "execution_count": 27,
   "id": "4be8d752",
   "metadata": {},
   "outputs": [
    {
     "data": {
      "text/plain": [
       "array([[0.48648649, 0.58252427, 0.99122807],\n",
       "       [0.        , 1.        , 0.81578947],\n",
       "       [0.27027027, 0.        , 1.        ],\n",
       "       [1.        , 0.99029126, 0.        ]])"
      ]
     },
     "execution_count": 27,
     "metadata": {},
     "output_type": "execute_result"
    }
   ],
   "source": [
    "preprocessor1 = preprocessing.MinMaxScaler(feature_range = (0,1))\n",
    "# Membuat objek MinMaxScaler dari modul preprocessing dalam library sklearn.\n",
    "# Parameter feature_range=(0,1) menentukan rentang nilai minimum dan maksimum untuk hasil scaling.\n",
    "# Dalam hal ini, nilai data akan dinormalisasi sehingga berada dalam rentang [0, 1].\n",
    "# MinMaxScaler menghitung nilai minimum dan maksimum setiap fitur (kolom) dari data input, kemudian mengaplikasikan rumus:\n",
    "# x' = (x-min)/(max-min)\n",
    "# di mana min dan max adalah nilai minimum dan maksimum di setiap kolom.\n",
    "\n",
    "preprocessor1.fit(sample_data)\n",
    "# Memahami (fit) data sample_data untuk menghitung nilai minimum (min) dan maksimum (max) di setiap kolom.\n",
    "# Proses ini tidak mengubah data; hanya menghitung parameter yang diperlukan untuk transformasi.\n",
    "# kolom 1 : min = -1.5 dan max = 5.9\n",
    "# kolom 2 : min = -7.9 dan max = 2.4\n",
    "# kolom 3 : min = -5.8 dan max = 5.6\n",
    "\n",
    "scaled_data = prepocessor1.transform(sample_data)\n",
    "# Transformasi data menggunakan parameter yang dihitung selama proses fit().\n",
    "# Data pada setiap kolom dinormalisasi ke rentang [0, 1] menggunakan rumus:\n",
    "# x' = (x-min)/(max-min)\n",
    "# Proses ini dilakukan secara elemen per elemen untuk setiap kolom di sample_data.\n",
    "\n",
    "scaled_data\n",
    "# scaled_data menyimpan hasil dari transformasi, yaitu versi ter-skala dari sample_data di mana semua elemen berada dalam rentang [0, 1]."
   ]
  },
  {
   "cell_type": "code",
   "execution_count": 28,
   "id": "fb6040c7",
   "metadata": {},
   "outputs": [
    {
     "data": {
      "text/plain": [
       "array([[0.48648649, 0.58252427, 0.99122807],\n",
       "       [0.        , 1.        , 0.81578947],\n",
       "       [0.27027027, 0.        , 1.        ],\n",
       "       [1.        , 0.99029126, 0.        ]])"
      ]
     },
     "execution_count": 28,
     "metadata": {},
     "output_type": "execute_result"
    }
   ],
   "source": [
    "# Cara di atas mungkin agk rumit\n",
    "# berikut cara simple nya\n",
    "scaled_data1 = preprocessor1.fit_transform(sample_data)\n",
    "scaled_data1"
   ]
  },
  {
   "attachments": {
    "Screenshot%202024-11-24%20202025.png": {
     "image/png": "[encoded data removed]"
    }
   },
   "cell_type": "markdown",
   "id": "4d1e1286",
   "metadata": {},
   "source": [
    "#### 3. L1 Normalisation: Least Absolute Deviations\n",
    "Tujuannya untuk melakukan normalisasi terhadap data numerik yang kita miliki.\n",
    "Rumus untuk L1 Normalisation: Least Absolute Deviations ditulis sebagi berikut:\n",
    "![Screenshot%202024-11-24%20202025.png](attachment:Screenshot%202024-11-24%20202025.png)\n",
    "\n",
    "di mana ∑∣x∣ adalah jumlah nilai absolut dari semua elemen dalam baris tersebut."
   ]
  },
  {
   "cell_type": "code",
   "execution_count": 32,
   "id": "481c3f15",
   "metadata": {
    "scrolled": true
   },
   "outputs": [
    {
     "data": {
      "text/plain": [
       "array([[ 0.22105263, -0.2       ,  0.57894737],\n",
       "       [-0.2027027 ,  0.32432432,  0.47297297],\n",
       "       [ 0.03571429, -0.56428571,  0.4       ],\n",
       "       [ 0.42142857,  0.16428571, -0.41428571]])"
      ]
     },
     "execution_count": 32,
     "metadata": {},
     "output_type": "execute_result"
    }
   ],
   "source": [
    "l1_normalised_data = preprocessing.normalize(sample_data, norm = \"l1\")\n",
    "# Fungsi preprocessing.normalize() dari library sklearn digunakan untuk melakukan normalisasi data.\n",
    "# Parameter norm=\"l1\" menentukan bahwa normalisasi dilakukan berdasarkan norma L1 (Manhattan norm).\n",
    "# Pada norma L1, setiap baris dalam data dinormalisasi sehingga jumlah nilai absolut dari elemen-elemen dalam baris tersebut sama dengan 1.\n",
    "# Rumus normalisasi L1 untuk elemen 𝑥𝑖 dalam baris 𝑥:\n",
    "# 𝑥'𝑖 = 𝑥𝑖/∑∣x∣ \n",
    "# di mana ∑∣x∣ adalah jumlah nilai absolut dari semua elemen dalam baris tersebut.\n",
    "# Proses ini diterapkan pada setiap baris secara independen.\n",
    "\n",
    "l1_normalised_data\n",
    "# Menyimpan hasil dari data yang telah dinormalisasi menggunakan norma L1."
   ]
  },
  {
   "attachments": {
    "image.png": {
     "image/png": "[encoded data removed]"
    }
   },
   "cell_type": "markdown",
   "id": "c138574d",
   "metadata": {},
   "source": [
    "#### 4. L2 Normalisation: Least Squares\n",
    "Untuk L2 Normalisation: Least Squares gunakan rumus berikut:\n",
    "![image.png](attachment:image.png)"
   ]
  },
  {
   "cell_type": "code",
   "execution_count": 33,
   "id": "63ea83ce",
   "metadata": {},
   "outputs": [
    {
     "data": {
      "text/plain": [
       "array([[ 0.33946114, -0.30713151,  0.88906489],\n",
       "       [-0.33325106,  0.53320169,  0.7775858 ],\n",
       "       [ 0.05156558, -0.81473612,  0.57753446],\n",
       "       [ 0.68706914,  0.26784051, -0.6754239 ]])"
      ]
     },
     "execution_count": 33,
     "metadata": {},
     "output_type": "execute_result"
    }
   ],
   "source": [
    "l2_normalised_data = preprocessing.normalize(sample_data, norm = \"l2\")\n",
    "# preprocessing.normalize():\n",
    "# Fungsi dari library sklearn ini digunakan untuk menormalisasi data.\n",
    "# Parameter norm=\"l2\" menentukan bahwa normalisasi dilakukan berdasarkan norma L2 (Euclidean norm).\n",
    "# Pada norma L2, setiap baris dinormalisasi sehingga panjang vektor (magnitudo) dari baris tersebut sama dengan 1.\n",
    "# Norma L2 dihitung dengan rumus ∥𝑥∥2 pada definisi di atas.\n",
    "# Data dalam setiap baris dinormalisasi dengan membagi setiap elemen 𝑥𝑖 dengan norma L2 dari baris tersebut, yaitu 𝑥'𝑖.\n",
    "\n",
    "l2_normalised_data\n",
    "# Variabel ini menyimpan hasil transformasi, yaitu data yang sudah dinormalisasi menggunakan norma L2.\n",
    "# Setiap baris dalam hasil normalisasi akan memiliki panjang vektor ∥𝑥∥2 = 1"
   ]
  }
 ],
 "metadata": {
  "kernelspec": {
   "display_name": "Python 3 (ipykernel)",
   "language": "python",
   "name": "python3"
  },
  "language_info": {
   "codemirror_mode": {
    "name": "ipython",
    "version": 3
   },
   "file_extension": ".py",
   "mimetype": "text/x-python",
   "name": "python",
   "nbconvert_exporter": "python",
   "pygments_lexer": "ipython3",
   "version": "3.10.9"
  }
 },
 "nbformat": 4,
 "nbformat_minor": 5
}
